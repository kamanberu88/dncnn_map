{
 "cells": [
  {
   "cell_type": "code",
   "execution_count": 4,
   "outputs": [
    {
     "name": "stdout",
     "output_type": "stream",
     "text": [
      "Input size: torch.Size([1, 1, 512, 512])\n",
      "Output size: torch.Size([1, 1, 512, 512])\n"
     ]
    }
   ],
   "source": [
    "import argparse\n",
    "import os\n",
    "import io\n",
    "import numpy as np\n",
    "import PIL.Image as pil_image\n",
    "import torch\n",
    "from torchvision.utils import save_image\n",
    "import torch.backends.cudnn as cudnn\n",
    "from torchvision import transforms\n",
    "from model import DnCNN\n",
    "import PIL\n",
    "from PIL import Image\n",
    "import matplotlib.pyplot as plt\n",
    "from models.model_rdnn import RRDN\n",
    "from model import DnCNN\n",
    "cudnn.benchmark = True\n",
    "device = torch.device(\"cuda:0\" if torch.cuda.is_available() else \"cpu\")\n",
    "\n",
    "\n",
    "model_path = './reeeeusult7_net.pth'\n",
    "model=DnCNN(17)\n",
    "#model=RRDN()\n",
    "model=model.to(device)\n",
    "state_dict =model.load_state_dict(torch.load(model_path))\n",
    "\n",
    "\n",
    "model.eval()\n",
    "#C:\\Users\\kaman\\Desktop\\jpg8k_me\\tetst\n",
    "image_path=\"/home/natori21_u/JAXA_database/512/jpg8k/407/sim0001.jpg\"\n",
    "\n",
    "filename = os.path.basename(image_path).split('.')[0]\n",
    "descriptions = ''\n",
    "\n",
    "\n",
    "#input = pil_image.open(image_path).convert('R')\n",
    "#input_open=PIL.Image.open(image_path)\n",
    "#input_open.show()\n",
    "input=Image.open(image_path)\n",
    "#print (input.mode)\n",
    "#input.show()\n",
    "transformS=transforms.Compose([\n",
    "        transforms.Grayscale(),\n",
    "        #transforms.RandomCrop(128),\n",
    "       transforms.ToTensor()\n",
    "])\n",
    "#input = transforms.ToTensor()(input).unsqueeze(0).to(device)\n",
    "input = transformS(input).unsqueeze(0).to(device)\n",
    "#print(input.size())\n",
    "print(\"Input size:\", input.size())\n",
    "\n",
    "\n",
    "with torch.no_grad():\n",
    "    pred = model(input)\n",
    "     #print(pred)\n",
    "    print(\"Output size:\", pred.size())\n",
    "    save_image(pred, './out/{}_{}.jpg'.format(filename, descriptions))"
   ],
   "metadata": {
    "collapsed": false,
    "pycharm": {
     "name": "#%%\n"
    }
   }
  },
  {
   "cell_type": "code",
   "execution_count": null,
   "outputs": [],
   "source": [],
   "metadata": {
    "collapsed": false,
    "pycharm": {
     "name": "#%%\n"
    }
   }
  }
 ],
 "metadata": {
  "kernelspec": {
   "display_name": "Python 3",
   "language": "python",
   "name": "python3"
  },
  "language_info": {
   "codemirror_mode": {
    "name": "ipython",
    "version": 2
   },
   "file_extension": ".py",
   "mimetype": "text/x-python",
   "name": "python",
   "nbconvert_exporter": "python",
   "pygments_lexer": "ipython2",
   "version": "2.7.6"
  }
 },
 "nbformat": 4,
 "nbformat_minor": 0
}